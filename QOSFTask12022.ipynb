{
 "cells": [
  {
   "cell_type": "code",
   "execution_count": 1,
   "id": "f6a05928-363a-4c2d-8408-ae3709599abd",
   "metadata": {},
   "outputs": [
    {
     "name": "stderr",
     "output_type": "stream",
     "text": [
      "<frozen importlib._bootstrap>:219: RuntimeWarning: scipy._lib.messagestream.MessageStream size changed, may indicate binary incompatibility. Expected 56 from C header, got 64 from PyObject\n"
     ]
    }
   ],
   "source": [
    "# Default imports provided by IBM's notebook, which is where I created the code.\n",
    "import numpy as np\n",
    "\n",
    "# Importing standard Qiskit libraries\n",
    "from qiskit import QuantumCircuit, transpile, Aer, IBMQ\n",
    "from qiskit.tools.jupyter import *\n",
    "from qiskit.visualization import *\n",
    "from ibm_quantum_widgets import *\n",
    "from qiskit.providers.aer import QasmSimulator\n",
    "\n",
    "# These are some items I imported individually, just to make sure I had everything I needed before starting the development my program.\n",
    "from qiskit import ClassicalRegister, QuantumRegister\n",
    "from qiskit import QuantumCircuit\n",
    "from qiskit import *\n",
    "\n",
    "# Loading your IBM Quantum account(s)\n",
    "provider = IBMQ.load_account()"
   ]
  },
  {
   "cell_type": "code",
   "execution_count": 2,
   "id": "0f8b70dc-00d0-4204-9c9f-66fb30f6a987",
   "metadata": {},
   "outputs": [],
   "source": [
    "def addition_function(first, second): # Creating an addition function with all the quantum-related parts before using a for loop to create a multiplication function. \n",
    "    # Converting the user-inputted numbers into binary numbers\n",
    "    first = bin(first).replace(\"0b\", \"\")\n",
    "    second = bin(second).replace(\"0b\", \"\")\n",
    "\n",
    "    # Need the length of the two numbers to set up quantum and classical registers with suitable lengths.\n",
    "    len_1 = len(first)\n",
    "    len_2 = len(second)\n",
    "    n = len_1+len_2-1\n",
    "\n",
    "    # num_2 has an extra qubit for the sum.\n",
    "    #The classical register has n+1 bits, allowing for the sum to be read.\n",
    "\n",
    "    num_1 = QuantumRegister(n) # Needed for the first number.\n",
    "    num_2 = QuantumRegister(n+1) # Needed for the second number and eventually, the sum of the two numbers.\n",
    "    carry = QuantumRegister(n) # Needed for any carrying\n",
    "    c = ClassicalRegister(n+1) \n",
    "\n",
    "    #Combining the previously defined registers into a single circuit.\n",
    "    circ = QuantumCircuit(num_1, num_2, carry, c)\n",
    "\n",
    "    #Setting up the registers based upon the lengths of the two binary numbers.\n",
    "    for i in range(len_1):\n",
    "        if first[i] == \"1\": \n",
    "            circ.x(num_1[len_1 - (i+1)]) # Flips the qubit from zero the one, i.e. the x-gate\n",
    "    for i in range(len_2):\n",
    "       if second[i] == \"1\":\n",
    "          circ.x(num_2[len_2 - (i+1)]) # Flips the qubit from zero the one, i.e. the x-gate\n",
    "\n",
    "    # Implementing a carry (ccx or Toffoli) gate that is applied on (num_1[i], num_2[i], and carry[i]) with the output put to carry[i+1]\n",
    "    for i in range(n-1):\n",
    "        circ.ccx(num_1[i], num_2[i], carry[i+1])\n",
    "        circ.cx(num_1[i], num_2[i])\n",
    "        circ.ccx(carry[i], num_2[i], carry[i+1])\n",
    "\n",
    "\n",
    "    # For the final iteration of the Toffoli gate, instead of putting the result to carry[n], we use num_2[n], which is why carry has only n bits, with carry[n-1] being the last carry bit.\n",
    "    # Also, we pre-defined num_2 having a slot for the sum of the two numbers.\n",
    "    circ.ccx(num_1[n-1], num_2[n-1], num_2[n])\n",
    "    circ.cx(num_1[n-1], num_2[n-1])\n",
    "    circ.ccx(carry[n-1], num_2[n-1], num_2[n])\n",
    "\n",
    "    # Reversing the gate operation performed on num_2[n-1]\n",
    "    circ.cx(carry[n-1], num_2[n-1])\n",
    "    # Reversing the gate operations performed during the carry gate implementations. This is done to make sure the sum gates are given the correct input bit states\n",
    "\n",
    "    for i in range(n-1):\n",
    "        # Note the usage of the controlled-not gate and the Toffoli gate for the reversal procedure.\n",
    "        circ.ccx(carry[(n-2)-i], num_2[(n-2)-i], carry[(n-1)-i])\n",
    "        circ.cx(num_1[(n-2)-i], num_2[(n-2)-i])\n",
    "        circ.ccx(num_1[(n-2)-i], num_2[(n-2)-i], carry[(n-1)-i])\n",
    "        # These two operations act as a sum gate. If a control bit is at the ket one state, then the target bit num_2[(n-2)-i] is flipped (controlled gate, in essence).\n",
    "        circ.cx(carry[(n-2)-i], num_2[(n-2)-i])\n",
    "        circ.cx(num_1[(n-2)-i], num_2[(n-2)-i])\n",
    "\n",
    "\n",
    "    # Measuring all qubits and storing them into the previously created classical register.\n",
    "    for i in range(n+1):\n",
    "        circ.measure(num_2[i], c[i])\n",
    "\n",
    "    # Setting up and running my program onto the idealized Statevector-Simulator for optimial results, due to the small input size.\n",
    "    backend = Aer.get_backend(\"statevector_simulator\")\n",
    "    job = execute(circ, backend)\n",
    "    counts = job.result().get_counts()\n",
    "\n",
    "    return (int(next(iter(counts)), 2)) # Returning the final integer\n",
    "\n",
    "    # print(list(counts.keys())[0]) - useful for displaying the output as a binary number, but not needed"
   ]
  },
  {
   "cell_type": "code",
   "execution_count": 9,
   "id": "96c203ac-b616-4302-840c-d1a9a2ac6521",
   "metadata": {},
   "outputs": [
    {
     "name": "stdout",
     "output_type": "stream",
     "text": [
      "30.0\n"
     ]
    }
   ],
   "source": [
    "def multiplier(first, second): # This is the function that uses a for loop to do multiplication with the previously created addition_function.\n",
    "    product = 0\n",
    "    for i in range (0, second):\n",
    "        sum = addition_function(first,first)\n",
    "        product += sum\n",
    "    product /= 2    \n",
    "    return product    \n",
    "\n",
    "# This is just some test code, and can be changed if needed\n",
    "test = multiplier(5,6)\n",
    "print(test)"
   ]
  }
 ],
 "metadata": {
  "kernelspec": {
   "display_name": "Python 3 (ipykernel)",
   "language": "python",
   "name": "python3"
  },
  "language_info": {
   "codemirror_mode": {
    "name": "ipython",
    "version": 3
   },
   "file_extension": ".py",
   "mimetype": "text/x-python",
   "name": "python",
   "nbconvert_exporter": "python",
   "pygments_lexer": "ipython3",
   "version": "3.8.13"
  },
  "widgets": {
   "application/vnd.jupyter.widget-state+json": {
    "state": {
     "09978cdfc6944d1aaf6dd23a3740d9d0": {
      "model_module": "@jupyter-widgets/base",
      "model_module_version": "1.2.0",
      "model_name": "LayoutModel",
      "state": {
       "width": "190px"
      }
     },
     "21f6b062dbd54bba965468a11d86435b": {
      "model_module": "@jupyter-widgets/controls",
      "model_module_version": "1.5.0",
      "model_name": "HTMLModel",
      "state": {
       "layout": "IPY_MODEL_ff84792b00db40629e448acfb74bac57",
       "style": "IPY_MODEL_2b20758ca7c84844b8a22a4035ebc190",
       "value": "<h5>Status</h5>"
      }
     },
     "2b20758ca7c84844b8a22a4035ebc190": {
      "model_module": "@jupyter-widgets/controls",
      "model_module_version": "1.5.0",
      "model_name": "DescriptionStyleModel",
      "state": {
       "description_width": ""
      }
     },
     "3f6daafe3f9a47b488992a887a8b01f8": {
      "model_module": "@jupyter-widgets/controls",
      "model_module_version": "1.5.0",
      "model_name": "ButtonStyleModel",
      "state": {}
     },
     "48565c02270b40fc9bb98da1542ff428": {
      "model_module": "@jupyter-widgets/base",
      "model_module_version": "1.2.0",
      "model_name": "LayoutModel",
      "state": {
       "width": "145px"
      }
     },
     "49b9d0290e384d2395957b4ed2c7600d": {
      "model_module": "@jupyter-widgets/base",
      "model_module_version": "1.2.0",
      "model_name": "LayoutModel",
      "state": {
       "width": "70px"
      }
     },
     "500617677c4640acb21291474b150b48": {
      "model_module": "@jupyter-widgets/base",
      "model_module_version": "1.2.0",
      "model_name": "LayoutModel",
      "state": {
       "grid_template_areas": "\n                                       \". . . . right \"\n                                        ",
       "grid_template_columns": "20% 20% 20% 20% 20%",
       "width": "100%"
      }
     },
     "62c449535b5446e09052d7a034fc746f": {
      "model_module": "@jupyter-widgets/controls",
      "model_module_version": "1.5.0",
      "model_name": "HTMLModel",
      "state": {
       "layout": "IPY_MODEL_49b9d0290e384d2395957b4ed2c7600d",
       "style": "IPY_MODEL_df960aae86864801980e9aa3dfbd7fd1",
       "value": "<h5>Queue</h5>"
      }
     },
     "765faaed30ee4cd98008b2bf1545c5fb": {
      "model_module": "@jupyter-widgets/controls",
      "model_module_version": "1.5.0",
      "model_name": "HTMLModel",
      "state": {
       "layout": "IPY_MODEL_09978cdfc6944d1aaf6dd23a3740d9d0",
       "style": "IPY_MODEL_be3b927f014e457daacfe7af8c710f1b",
       "value": "<h5>Job ID</h5>"
      }
     },
     "7d302d953f364b47b7f63e167894d84b": {
      "model_module": "@jupyter-widgets/base",
      "model_module_version": "1.2.0",
      "model_name": "LayoutModel",
      "state": {
       "margin": "0px 0px 10px 0px"
      }
     },
     "88cf9141b8f7471eae4aac89af58e296": {
      "model_module": "@jupyter-widgets/controls",
      "model_module_version": "1.5.0",
      "model_name": "DescriptionStyleModel",
      "state": {
       "description_width": ""
      }
     },
     "95444529dbcb4964b7c3d3d44568e431": {
      "model_module": "@jupyter-widgets/base",
      "model_module_version": "1.2.0",
      "model_name": "LayoutModel",
      "state": {}
     },
     "96afbb0f3e8c4c6197cfea2490eb99bc": {
      "model_module": "@jupyter-widgets/controls",
      "model_module_version": "1.5.0",
      "model_name": "GridBoxModel",
      "state": {
       "children": [
        "IPY_MODEL_a3de10bd598e484f9d77f5702fa0cce9"
       ],
       "layout": "IPY_MODEL_500617677c4640acb21291474b150b48"
      }
     },
     "97344e116c564754988d39a860db407a": {
      "model_module": "@jupyter-widgets/controls",
      "model_module_version": "1.5.0",
      "model_name": "DescriptionStyleModel",
      "state": {
       "description_width": ""
      }
     },
     "9be5870e80454b3d874799eb53d76d72": {
      "model_module": "@jupyter-widgets/controls",
      "model_module_version": "1.5.0",
      "model_name": "HTMLModel",
      "state": {
       "layout": "IPY_MODEL_95444529dbcb4964b7c3d3d44568e431",
       "style": "IPY_MODEL_97344e116c564754988d39a860db407a",
       "value": "<h5>Message</h5>"
      }
     },
     "a3de10bd598e484f9d77f5702fa0cce9": {
      "model_module": "@jupyter-widgets/controls",
      "model_module_version": "1.5.0",
      "model_name": "ButtonModel",
      "state": {
       "button_style": "primary",
       "description": "Clear",
       "layout": "IPY_MODEL_a8c9362b708d49fe9971c44209fe3af3",
       "style": "IPY_MODEL_3f6daafe3f9a47b488992a887a8b01f8"
      }
     },
     "a8c9362b708d49fe9971c44209fe3af3": {
      "model_module": "@jupyter-widgets/base",
      "model_module_version": "1.2.0",
      "model_name": "LayoutModel",
      "state": {
       "grid_area": "right",
       "padding": "0px 0px 0px 0px",
       "width": "70px"
      }
     },
     "be3b927f014e457daacfe7af8c710f1b": {
      "model_module": "@jupyter-widgets/controls",
      "model_module_version": "1.5.0",
      "model_name": "DescriptionStyleModel",
      "state": {
       "description_width": ""
      }
     },
     "c15412d5c13043debd0881a1c291d18c": {
      "model_module": "@jupyter-widgets/controls",
      "model_module_version": "1.5.0",
      "model_name": "HBoxModel",
      "state": {
       "children": [
        "IPY_MODEL_765faaed30ee4cd98008b2bf1545c5fb",
        "IPY_MODEL_daef108ac6bd43f99125b57385349677",
        "IPY_MODEL_21f6b062dbd54bba965468a11d86435b",
        "IPY_MODEL_62c449535b5446e09052d7a034fc746f",
        "IPY_MODEL_9be5870e80454b3d874799eb53d76d72"
       ],
       "layout": "IPY_MODEL_de26b9125fbb470f919a00ad224a6f1f"
      }
     },
     "cfe9dc337c4e418ba8a03d4695cc94cd": {
      "model_module": "@jupyter-widgets/controls",
      "model_module_version": "1.5.0",
      "model_name": "HTMLModel",
      "state": {
       "layout": "IPY_MODEL_7d302d953f364b47b7f63e167894d84b",
       "style": "IPY_MODEL_f69d21d79c7d447bb568f96ec5012c61",
       "value": "<p style='font-family: IBM Plex Sans, Arial, Helvetica, sans-serif; font-size: 20px; font-weight: medium;'>Circuit Properties</p>"
      }
     },
     "daef108ac6bd43f99125b57385349677": {
      "model_module": "@jupyter-widgets/controls",
      "model_module_version": "1.5.0",
      "model_name": "HTMLModel",
      "state": {
       "layout": "IPY_MODEL_48565c02270b40fc9bb98da1542ff428",
       "style": "IPY_MODEL_88cf9141b8f7471eae4aac89af58e296",
       "value": "<h5>Backend</h5>"
      }
     },
     "de26b9125fbb470f919a00ad224a6f1f": {
      "model_module": "@jupyter-widgets/base",
      "model_module_version": "1.2.0",
      "model_name": "LayoutModel",
      "state": {
       "margin": "0px 0px 0px 37px",
       "width": "600px"
      }
     },
     "df960aae86864801980e9aa3dfbd7fd1": {
      "model_module": "@jupyter-widgets/controls",
      "model_module_version": "1.5.0",
      "model_name": "DescriptionStyleModel",
      "state": {
       "description_width": ""
      }
     },
     "f69d21d79c7d447bb568f96ec5012c61": {
      "model_module": "@jupyter-widgets/controls",
      "model_module_version": "1.5.0",
      "model_name": "DescriptionStyleModel",
      "state": {
       "description_width": ""
      }
     },
     "ff84792b00db40629e448acfb74bac57": {
      "model_module": "@jupyter-widgets/base",
      "model_module_version": "1.2.0",
      "model_name": "LayoutModel",
      "state": {
       "width": "95px"
      }
     }
    },
    "version_major": 2,
    "version_minor": 0
   }
  }
 },
 "nbformat": 4,
 "nbformat_minor": 5
}
